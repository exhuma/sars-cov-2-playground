{
 "cells": [
  {
   "cell_type": "code",
   "execution_count": null,
   "metadata": {},
   "outputs": [],
   "source": [
    "import importlib\n",
    "import matplotlib.pyplot as plt\n",
    "import seaborn as sns\n",
    "# Helper functions are in lib.py (see the repository)\n",
    "import lib\n",
    "_ = importlib.reload(lib)"
   ]
  },
  {
   "cell_type": "code",
   "execution_count": null,
   "metadata": {},
   "outputs": [],
   "source": [
    "frame = lib.fetch_sante_lu()"
   ]
  },
  {
   "cell_type": "code",
   "execution_count": null,
   "metadata": {},
   "outputs": [],
   "source": [
    "frame"
   ]
  },
  {
   "cell_type": "code",
   "execution_count": null,
   "metadata": {},
   "outputs": [],
   "source": [
    "frame[\"positivity\"] = frame[\"positive\"] / frame[\"num_tests\"]\n",
    "frame[\"positivity_smooth\"] = frame[\"positivity\"].rolling(7, center=True).mean()\n",
    "frame[\"positivity_smooth2\"] = frame[\"positivity\"].rolling(7, center=True).median()\n",
    "\n",
    "f, ax = plt.subplots(figsize=(15,10))\n",
    "sns.set_palette(\"bright\")\n",
    "sns.lineplot(x=frame.index, y=frame[\"positivity_smooth2\"], data=frame, label=\"positivity_smooth2\")\n",
    "sns.lineplot(x=frame.index, y=frame[\"positivity_smooth\"], data=frame, label=\"positivity_smooth\")\n",
    "\n",
    "plt.legend()"
   ]
  },
  {
   "cell_type": "code",
   "execution_count": null,
   "metadata": {},
   "outputs": [],
   "source": [
    "frame[\"positivity\"] = frame[\"positive\"] / frame[\"num_tests\"]\n",
    "frame[\"positivity_smooth\"] = frame[\"positivity\"].rolling(7, center=True).median()\n",
    "frame[\"lower\"] = frame[\"positivity\"].rolling(7, center=True).quantile(0.2)\n",
    "frame[\"upper\"] = frame[\"positivity\"].rolling(7, center=True).quantile(0.9)\n",
    "\n",
    "f, ax = plt.subplots(figsize=(15,10))\n",
    "sns.set_palette(\"bright\")\n",
    "sns.lineplot(x=frame.index, y=frame[\"positivity_smooth\"], data=frame, label=\"positivity_smooth\")\n",
    "sns.lineplot(x=frame.index, y=frame[\"lower\"], data=frame, label=\"20th percentile\")\n",
    "sns.lineplot(x=frame.index, y=frame[\"upper\"], data=frame, label=\"90th percentile\")\n",
    "\n",
    "plt.legend()"
   ]
  },
  {
   "cell_type": "code",
   "execution_count": null,
   "metadata": {},
   "outputs": [],
   "source": [
    "frame = frame[frame.positive != frame.num_tests]"
   ]
  },
  {
   "cell_type": "code",
   "execution_count": null,
   "metadata": {},
   "outputs": [],
   "source": [
    "f, ax = plt.subplots(figsize=(40,20))\n",
    "ax.grid = True\n",
    "frame[\"positivity\"] = frame[\"positive\"] / frame[\"num_tests\"] * 100\n",
    "frame[\"positivity_smooth\"] = frame[\"positivity\"].rolling(7, center=True).median()\n",
    "frame[\"woy\"] = frame.index.isocalendar().week\n",
    "bax = sns.boxplot(x=\"woy\", y=\"positivity\", data=frame, orient='v', palette=sns.color_palette(\"pastel\", n_colors=1))\n",
    "bax.set(xlabel='Calendar Week', ylabel='Positivity Rate (%)')\n",
    "bax.set(xlim=(0, 52))"
   ]
  },
  {
   "cell_type": "code",
   "execution_count": null,
   "metadata": {},
   "outputs": [],
   "source": [
    "f, ax = plt.subplots(figsize=(40,20))\n",
    "ax.grid = True\n",
    "bax = sns.boxplot(x=\"woy\", y=\"depart_hopital\", data=frame, palette=sns.color_palette(\"pastel\", n_colors=1))\n",
    "bax.set(xlabel='Calendar Week', ylabel='Intensive Care Beds in Use')\n",
    "bax.set(xlim=(0, 52))"
   ]
  },
  {
   "cell_type": "code",
   "execution_count": null,
   "metadata": {},
   "outputs": [],
   "source": [
    "f, ax = plt.subplots(figsize=(40,20))\n",
    "occupancy = frame.groupby(\"woy\").max()\n",
    "rects1 = ax.bar(occupancy.index-0.2, occupancy.soins_intensifs_sans_ge, 0.5, label='Intensive Care')\n",
    "rects2 = ax.bar(occupancy.index+0.2, occupancy.soins_normaux, 0.5, label='Normal Care')\n",
    "ax.legend()"
   ]
  },
  {
   "cell_type": "code",
   "execution_count": null,
   "metadata": {},
   "outputs": [],
   "source": []
  }
 ],
 "metadata": {
  "kernelspec": {
   "display_name": "Python 3",
   "language": "python",
   "name": "python3"
  },
  "language_info": {
   "codemirror_mode": {
    "name": "ipython",
    "version": 3
   },
   "file_extension": ".py",
   "mimetype": "text/x-python",
   "name": "python",
   "nbconvert_exporter": "python",
   "pygments_lexer": "ipython3",
   "version": "3.8.5"
  }
 },
 "nbformat": 4,
 "nbformat_minor": 4
}
