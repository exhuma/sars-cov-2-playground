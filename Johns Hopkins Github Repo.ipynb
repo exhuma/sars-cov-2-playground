{
 "cells": [
  {
   "cell_type": "markdown",
   "metadata": {},
   "source": [
    "## Disclaimer\n",
    "\n",
    "This workbook contains my own personal playground with data from the 2020 SARS-COV-2 Pandemic.\n",
    "\n",
    "I am neither a statistician nor doctor and no values or results in this workbook should be taken for further publication or dissemination in any other form.\n",
    "\n",
    "The code in this workbook makes some assumptions which have a high probability of indroducting errors in the data (f.ex. merging and matching of country names). I am awere of the issues and have not fixed them, because my main goal of this workbook is to experimnent with Python, Pandas and the data from the virus outbreak. The results are not intended to have a high degree of correctness. It is a personal project, intended for personal use."
   ]
  },
  {
   "cell_type": "code",
   "execution_count": null,
   "metadata": {},
   "outputs": [],
   "source": [
    "# Imports\n",
    "import importlib\n",
    "\n",
    "import requests\n",
    "import pandas as pd\n",
    "import seaborn as sns\n",
    "import numpy as np\n",
    "from functools import lru_cache\n",
    "import matplotlib.pyplot as plt\n",
    "\n",
    "# Helper functions are in lib.py (see the repository)\n",
    "import lib\n",
    "_ = importlib.reload(lib)"
   ]
  },
  {
   "cell_type": "code",
   "execution_count": null,
   "metadata": {},
   "outputs": [],
   "source": [
    "COUNTRY_POP = lib.fetch_populations()\n",
    "pop_getter = lib.population_getter(COUNTRY_POP)\n",
    "\n",
    "# Read the initial data-frames from the Johns Hopkins data set\n",
    "BASE_URL = \"https://raw.githubusercontent.com/CSSEGISandData/COVID-19/master/csse_covid_19_data/csse_covid_19_time_series\"\n",
    "confirmed = pd.read_csv(BASE_URL + \"/time_series_covid19_confirmed_global.csv\")\n",
    "deaths = pd.read_csv(BASE_URL + \"/time_series_covid19_deaths_global.csv\")\n",
    "recovered = pd.read_csv(BASE_URL + \"/time_series_covid19_recovered_global.csv\")\n",
    "\n",
    "# Convert to row-based time-series\n",
    "confirmed_ts = lib.to_timeseries(confirmed, \"confirmed\")\n",
    "deaths_ts = lib.to_timeseries(deaths, \"deaths\")\n",
    "recovered_ts = lib.to_timeseries(recovered, \"recovered\")\n",
    "\n",
    "with_deaths = pd.merge(confirmed_ts, deaths_ts, on=[\"Date\", \"Province/State\", \"Country/Region\"])\n",
    "\n",
    "# Merge \"recovered\" into the data-set. This new data-frame will contain all values\n",
    "# (confirmed, recovered and deaths) for each country\n",
    "with_recovered = pd.merge(with_deaths, recovered_ts, on=[\"Date\", \"Province/State\", \"Country/Region\"])\n",
    "\n",
    "# Add a new column containing the population of the country for that row\n",
    "with_recovered[\"population\"] = with_recovered.apply(lambda row: pop_getter(row, \"Country/Region\"), axis=1)\n",
    "\n",
    "# Remove \"Province/State\" and sum the values, giving us only one entry per country\n",
    "with_recovered.drop(\"Province/State\", axis=\"columns\")\n",
    "with_recovered = with_recovered.groupby(by=[\"Date\", \"Country/Region\", \"population\"]).sum()\n",
    "with_recovered = with_recovered.reset_index()\n",
    "with_recovered = with_recovered.set_index(\"Date\")\n",
    "\n",
    "# Calculate the values \"per-capita\" (per 1'000 inhabitants) for each country\n",
    "with_recovered['confirmed_per_capita'] = with_recovered['confirmed'] / with_recovered['population'] * 1e3\n",
    "with_recovered['deaths_per_capita'] = with_recovered['deaths'] / with_recovered['population'] * 1e3\n",
    "with_recovered['recovered_per_capita'] = with_recovered['recovered'] / with_recovered['population'] * 1e3\n",
    "\n",
    "# Split into one data-frame per country so we can manipulate each one separately\n",
    "recombined = lib.prepare_for_plot(with_recovered, COUNTRY_POP)"
   ]
  },
  {
   "cell_type": "code",
   "execution_count": null,
   "metadata": {},
   "outputs": [],
   "source": [
    "# plot stuff\n",
    "\n",
    "for_plot = recombined[\n",
    "    (recombined['Country/Region'] == \"Luxembourg\") |\n",
    "    (recombined['Country/Region'] == \"US\") |\n",
    "    (recombined['Country/Region'] == \"Germany\") |\n",
    "    (recombined['Country/Region'] == \"Italy\")\n",
    "].sort_values(\"days_after_cutoff\")\n",
    "lib.plot(for_plot, \"confirmed_per_capita\")"
   ]
  },
  {
   "cell_type": "code",
   "execution_count": null,
   "metadata": {},
   "outputs": [],
   "source": [
    "lib.plot(for_plot, \"smooth_delta_confirmed_per_capita\")"
   ]
  },
  {
   "cell_type": "markdown",
   "metadata": {},
   "source": [
    "# Playground\n",
    "\n",
    "Everything below is \"work-in-progress\" playground"
   ]
  },
  {
   "cell_type": "code",
   "execution_count": null,
   "metadata": {},
   "outputs": [],
   "source": [
    "lux = recombined[recombined[\"Country/Region\"] == \"Luxembourg\"].copy()\n",
    "lux[\"i\"] = lux[\"confirmed\"] / lux[\"population\"]\n",
    "lux[\"s\"] = (lux[\"population\"] - lux[\"confirmed\"]) / lux[\"population\"]\n",
    "lux[\"r\"] = (lux[\"recovered\"] + lux[\"deaths\"]) / lux[\"population\"]\n",
    "transmission_rate = 1.0\n",
    "lux[\"rate_of_infection\"] = transmission_rate * lux[\"s\"] * lux[\"i\"]\n",
    "lux"
   ]
  },
  {
   "cell_type": "code",
   "execution_count": null,
   "metadata": {},
   "outputs": [],
   "source": [
    "f, ax = plt.subplots(figsize=(15,10))\n",
    "sns.set_palette(\"bright\")\n",
    "sns.lineplot(x=lux.index, y=lux[\"s\"], data=lux, label=\"S\")\n",
    "sns.lineplot(x=lux.index, y=lux[\"i\"], data=lux, label=\"I\")\n",
    "sns.lineplot(x=lux.index, y=lux[\"r\"], data=lux, label=\"R\")\n",
    "plt.legend()"
   ]
  },
  {
   "cell_type": "code",
   "execution_count": null,
   "metadata": {},
   "outputs": [],
   "source": []
  }
 ],
 "metadata": {
  "kernelspec": {
   "display_name": "Python 3",
   "language": "python",
   "name": "python3"
  },
  "language_info": {
   "codemirror_mode": {
    "name": "ipython",
    "version": 3
   },
   "file_extension": ".py",
   "mimetype": "text/x-python",
   "name": "python",
   "nbconvert_exporter": "python",
   "pygments_lexer": "ipython3",
   "version": "3.8.5"
  }
 },
 "nbformat": 4,
 "nbformat_minor": 4
}
